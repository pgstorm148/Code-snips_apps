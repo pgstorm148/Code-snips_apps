#weather
import requests

city = input("\nEnter city name : ")
url = "https://wttr.in/{}".format(city)
try:
    res = requests.get(url)
    print(res.text)
except:
    print("Error occured, please try again")
