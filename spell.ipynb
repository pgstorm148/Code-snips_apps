{
 "cells": [
  {
   "cell_type": "code",
   "execution_count": null,
   "id": "09ada8fe",
   "metadata": {},
   "outputs": [],
   "source": [
    "pip install textblob"
   ]
  },
  {
   "cell_type": "code",
   "execution_count": null,
   "id": "d92763c9",
   "metadata": {},
   "outputs": [],
   "source": [
    "from textblob import TextBlob\n",
    "def Convert(string):\n",
    "    li = list(string.split())\n",
    "    return li\n",
    "str1 = input(\"enter your word: \")\n",
    "words=Convert(str1)\n",
    "corrected_words = []\n",
    "for i in words:\n",
    "    corrected_words.append(TextBlob(i))\n",
    "    \n",
    "print(\"Wrong words :\", words)\n",
    "print(\"corrected words are : \")\n",
    "for i in corrected_words:\n",
    "    print(i.correct(), end=\" \")\n",
    "    \n"
   ]
  }
 ],
 "metadata": {
  "kernelspec": {
   "display_name": "Python 3 (ipykernel)",
   "language": "python",
   "name": "python3"
  },
  "language_info": {
   "codemirror_mode": {
    "name": "ipython",
    "version": 3
   },
   "file_extension": ".py",
   "mimetype": "text/x-python",
   "name": "python",
   "nbconvert_exporter": "python",
   "pygments_lexer": "ipython3",
   "version": "3.9.12"
  }
 },
 "nbformat": 4,
 "nbformat_minor": 5
}
