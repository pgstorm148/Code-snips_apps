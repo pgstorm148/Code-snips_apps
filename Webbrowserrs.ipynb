{
 "cells": [
  {
   "cell_type": "code",
   "execution_count": 2,
   "id": "b7f555e0",
   "metadata": {},
   "outputs": [
    {
     "data": {
      "text/plain": [
       "True"
      ]
     },
     "execution_count": 2,
     "metadata": {},
     "output_type": "execute_result"
    }
   ],
   "source": [
    "import webbrowser\n",
    "\n",
    "webbrowser.open(\"https://web.whatsapp.com\")"
   ]
  },
  {
   "cell_type": "code",
   "execution_count": null,
   "id": "a1aaa0fd",
   "metadata": {},
   "outputs": [],
   "source": [
    "import pywhatkit as kit\n",
    "\n",
    "kit.sendwhats_image(phone_no=\"XXXXXXXXXXX\", img_path =\" <img src>\", caption = \"hello uncleji\")"
   ]
  },
  {
   "cell_type": "code",
   "execution_count": null,
   "id": "7c6236ec",
   "metadata": {},
   "outputs": [],
   "source": [
    "import pywhatkit as kit\n",
    "import requests\n",
    "\n",
    "kit.sendwhats_image(phone_no=\"XXXXXXXXXXX\", img_path =\" <img src>/api \", caption = \"hello uncleji\")"
   ]
  },
  {
   "cell_type": "code",
   "execution_count": 4,
   "id": "2d4fbff5",
   "metadata": {},
   "outputs": [
    {
     "name": "stdout",
     "output_type": "stream",
     "text": [
      "\n",
      "Enter your link : https://google.com\n",
      "\n",
      "Shorted link is : https://tinyurl.com/mbq3m\n"
     ]
    }
   ],
   "source": [
    "\n",
    "import pyshorteners\n",
    "\n",
    "link = input(\"\\nEnter your link : \")\n",
    "\n",
    "short = pyshorteners.Shortener()\n",
    "x = short.tinyurl.short(link)\n",
    "\n",
    "print(\"\\nShorted link is : \"+x)"
   ]
  },
  {
   "cell_type": "code",
   "execution_count": null,
   "id": "d2ca4fc2",
   "metadata": {},
   "outputs": [],
   "source": []
  }
 ],
 "metadata": {
  "kernelspec": {
   "display_name": "Python 3 (ipykernel)",
   "language": "python",
   "name": "python3"
  },
  "language_info": {
   "codemirror_mode": {
    "name": "ipython",
    "version": 3
   },
   "file_extension": ".py",
   "mimetype": "text/x-python",
   "name": "python",
   "nbconvert_exporter": "python",
   "pygments_lexer": "ipython3",
   "version": "3.9.12"
  }
 },
 "nbformat": 4,
 "nbformat_minor": 5
}
