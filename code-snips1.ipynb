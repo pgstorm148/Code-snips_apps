{
 "cells": [
  {
   "cell_type": "code",
   "execution_count": 3,
   "id": "e05d1bf3",
   "metadata": {},
   "outputs": [
    {
     "data": {
      "text/plain": [
       "True"
      ]
     },
     "execution_count": 3,
     "metadata": {},
     "output_type": "execute_result"
    }
   ],
   "source": [
    "#open custom urls\n",
    "\n",
    "import webbrowser\n",
    "\n",
    "webbrowser.open(\"https://google.com\")"
   ]
  },
  {
   "cell_type": "code",
   "execution_count": 2,
   "id": "e730513d",
   "metadata": {},
   "outputs": [
    {
     "name": "stdout",
     "output_type": "stream",
     "text": [
      "enter youtube video url :bdjh\n"
     ]
    },
    {
     "ename": "AttributeError",
     "evalue": "module 'pytube' has no attribute 'Youtube'",
     "output_type": "error",
     "traceback": [
      "\u001b[0;31m---------------------------------------------------------------------------\u001b[0m",
      "\u001b[0;31mAttributeError\u001b[0m                            Traceback (most recent call last)",
      "Input \u001b[0;32mIn [2]\u001b[0m, in \u001b[0;36m<cell line: 7>\u001b[0;34m()\u001b[0m\n\u001b[1;32m      4\u001b[0m \u001b[38;5;66;03m#pip install pytube\u001b[39;00m\n\u001b[1;32m      6\u001b[0m link \u001b[38;5;241m=\u001b[39m \u001b[38;5;28minput\u001b[39m(\u001b[38;5;124m\"\u001b[39m\u001b[38;5;124menter youtube video url :\u001b[39m\u001b[38;5;124m\"\u001b[39m)\n\u001b[0;32m----> 7\u001b[0m yt \u001b[38;5;241m=\u001b[39m \u001b[43mpytube\u001b[49m\u001b[38;5;241;43m.\u001b[39;49m\u001b[43mYoutube\u001b[49m(link)\n\u001b[1;32m      8\u001b[0m yt\u001b[38;5;241m.\u001b[39mstreams\u001b[38;5;241m.\u001b[39mfirst()\u001b[38;5;241m.\u001b[39mdownload()\n\u001b[1;32m      9\u001b[0m \u001b[38;5;28mprint\u001b[39m(\u001b[38;5;124m'\u001b[39m\u001b[38;5;124mdownloaded\u001b[39m\u001b[38;5;124m'\u001b[39m, link)\n",
      "\u001b[0;31mAttributeError\u001b[0m: module 'pytube' has no attribute 'Youtube'"
     ]
    }
   ],
   "source": [
    "#python yt video downloader\n",
    "\n",
    "import pytube\n",
    "#pip install pytube\n",
    "\n",
    "link = input(\"enter youtube video url :\")\n",
    "yt = pytube.Youtube(link)\n",
    "yt.streams.first().download()\n",
    "print('downloaded', link)"
   ]
  },
  {
   "cell_type": "code",
   "execution_count": 5,
   "id": "682df618",
   "metadata": {},
   "outputs": [
    {
     "ename": "NameError",
     "evalue": "name 'x' is not defined",
     "output_type": "error",
     "traceback": [
      "\u001b[0;31m---------------------------------------------------------------------------\u001b[0m",
      "\u001b[0;31mNameError\u001b[0m                                 Traceback (most recent call last)",
      "Input \u001b[0;32mIn [5]\u001b[0m, in \u001b[0;36m<cell line: 7>\u001b[0;34m()\u001b[0m\n\u001b[1;32m      7\u001b[0m \u001b[38;5;28;01mfor\u001b[39;00m i \u001b[38;5;129;01min\u001b[39;00m list_of_images:\n\u001b[1;32m      8\u001b[0m     Pdf\u001b[38;5;241m.\u001b[39madd_page()\n\u001b[0;32m----> 9\u001b[0m     Pdf\u001b[38;5;241m.\u001b[39mimage(i,\u001b[43mx\u001b[49m,y,w,h)\n\u001b[1;32m     11\u001b[0m Pdf\u001b[38;5;241m.\u001b[39moutput(\u001b[38;5;124m'\u001b[39m\u001b[38;5;124midk.pdf\u001b[39m\u001b[38;5;124m'\u001b[39m, \u001b[38;5;124m\"\u001b[39m\u001b[38;5;124mF\u001b[39m\u001b[38;5;124m\"\u001b[39m)\n",
      "\u001b[0;31mNameError\u001b[0m: name 'x' is not defined"
     ]
    }
   ],
   "source": [
    "#convert images to pdf\n",
    "\n",
    "from fpdf import FPDF\n",
    "Pdf = FPDF()\n",
    "list_of_images = [\"gray_image.png\"]\n",
    "\n",
    "for i in list_of_images:\n",
    "    Pdf.add_page()\n",
    "    Pdf.image(i,x,y,w,h)\n",
    "    \n",
    "Pdf.output('idk.pdf', \"F\")"
   ]
  },
  {
   "cell_type": "code",
   "execution_count": null,
   "id": "06af2d1a",
   "metadata": {},
   "outputs": [],
   "source": []
  }
 ],
 "metadata": {
  "kernelspec": {
   "display_name": "Python 3 (ipykernel)",
   "language": "python",
   "name": "python3"
  },
  "language_info": {
   "codemirror_mode": {
    "name": "ipython",
    "version": 3
   },
   "file_extension": ".py",
   "mimetype": "text/x-python",
   "name": "python",
   "nbconvert_exporter": "python",
   "pygments_lexer": "ipython3",
   "version": "3.9.12"
  }
 },
 "nbformat": 4,
 "nbformat_minor": 5
}
