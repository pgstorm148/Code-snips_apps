{
 "cells": [
  {
   "cell_type": "code",
   "execution_count": 1,
   "id": "3b097a59",
   "metadata": {},
   "outputs": [
    {
     "name": "stdout",
     "output_type": "stream",
     "text": [
      "File successfully reduced to 2999 records and saved as reduced_anomalies.csv.\n"
     ]
    }
   ],
   "source": [
    "import pandas as pd\n",
    "\n",
    "# Replace 'your_file.csv' with the actual filename\n",
    "input_file = 'network_traffic_anomalies.csv'\n",
    "output_file = 'reduced_anomalies.csv'\n",
    "target_records = 2999\n",
    "\n",
    "# Read the CSV file into a pandas DataFrame\n",
    "df = pd.read_csv(input_file)\n",
    "\n",
    "# Check if the number of records is greater than the target_records\n",
    "if len(df) > target_records:\n",
    "    # Reduce the DataFrame to the desired number of records\n",
    "    reduced_df = df.head(target_records)\n",
    "\n",
    "    # Save the reduced DataFrame to a new CSV file\n",
    "    reduced_df.to_csv(output_file, index=False)\n",
    "\n",
    "    print(f\"File successfully reduced to {target_records} records and saved as {output_file}.\")\n",
    "else:\n",
    "    print(\"The input file already has fewer records than the specified target.\")\n"
   ]
  },
  {
   "cell_type": "code",
   "execution_count": null,
   "id": "cc6304da",
   "metadata": {},
   "outputs": [],
   "source": []
  }
 ],
 "metadata": {
  "kernelspec": {
   "display_name": "Python 3 (ipykernel)",
   "language": "python",
   "name": "python3"
  },
  "language_info": {
   "codemirror_mode": {
    "name": "ipython",
    "version": 3
   },
   "file_extension": ".py",
   "mimetype": "text/x-python",
   "name": "python",
   "nbconvert_exporter": "python",
   "pygments_lexer": "ipython3",
   "version": "3.9.12"
  }
 },
 "nbformat": 4,
 "nbformat_minor": 5
}
