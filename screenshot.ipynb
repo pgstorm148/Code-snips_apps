{
 "cells": [
  {
   "cell_type": "code",
   "execution_count": null,
   "id": "e5fe464a",
   "metadata": {},
   "outputs": [],
   "source": [
    "#pip install pyautogui\n"
   ]
  },
  {
   "cell_type": "code",
   "execution_count": 1,
   "id": "6a0ef08a",
   "metadata": {},
   "outputs": [],
   "source": [
    "import pyautogui\n",
    "myss = pyautogui.screenshot()\n",
    "myss.save(\"try1.png\")"
   ]
  },
  {
   "cell_type": "code",
   "execution_count": null,
   "id": "cfe42746",
   "metadata": {},
   "outputs": [],
   "source": []
  }
 ],
 "metadata": {
  "kernelspec": {
   "display_name": "Python 3 (ipykernel)",
   "language": "python",
   "name": "python3"
  },
  "language_info": {
   "codemirror_mode": {
    "name": "ipython",
    "version": 3
   },
   "file_extension": ".py",
   "mimetype": "text/x-python",
   "name": "python",
   "nbconvert_exporter": "python",
   "pygments_lexer": "ipython3",
   "version": "3.9.12"
  }
 },
 "nbformat": 4,
 "nbformat_minor": 5
}
