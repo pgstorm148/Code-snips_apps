{
 "cells": [
  {
   "cell_type": "code",
   "execution_count": null,
   "id": "c978a7f5",
   "metadata": {},
   "outputs": [],
   "source": [
    "#pdfdrive.com"
   ]
  },
  {
   "cell_type": "code",
   "execution_count": 2,
   "id": "4a853b48",
   "metadata": {},
   "outputs": [
    {
     "name": "stdout",
     "output_type": "stream",
     "text": [
      "Enter link to download PDF : https://static1.squarespace.com/static/55ae532ae4b0d41522adf54c/t/55eba500e4b048d1ed3c91de/1441506560891/DO+EPIC+SHIT+LIST+CARD+3+.pdf\n",
      "enter pdf name : xyz\n"
     ]
    },
    {
     "data": {
      "text/plain": [
       "('xyz.pdf', <http.client.HTTPMessage at 0x7f90a9cd7880>)"
      ]
     },
     "execution_count": 2,
     "metadata": {},
     "output_type": "execute_result"
    }
   ],
   "source": [
    "import urllib.request\n",
    "url=input(\"Enter link to download PDF : \")\n",
    "name = input(\"enter pdf name : \")\n",
    "filename = name+\".pdf\"\n",
    "urllib.request.urlretrieve(url,filename)\n"
   ]
  },
  {
   "cell_type": "code",
   "execution_count": null,
   "id": "ecabb7be",
   "metadata": {},
   "outputs": [],
   "source": []
  }
 ],
 "metadata": {
  "kernelspec": {
   "display_name": "Python 3 (ipykernel)",
   "language": "python",
   "name": "python3"
  },
  "language_info": {
   "codemirror_mode": {
    "name": "ipython",
    "version": 3
   },
   "file_extension": ".py",
   "mimetype": "text/x-python",
   "name": "python",
   "nbconvert_exporter": "python",
   "pygments_lexer": "ipython3",
   "version": "3.9.12"
  }
 },
 "nbformat": 4,
 "nbformat_minor": 5
}
