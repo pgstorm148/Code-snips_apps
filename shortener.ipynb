{
 "cells": [
  {
   "cell_type": "code",
   "execution_count": 3,
   "id": "30ed28f1",
   "metadata": {},
   "outputs": [
    {
     "name": "stdout",
     "output_type": "stream",
     "text": [
      "\n",
      "enter link: https://github.com/pgstorm148\n",
      "shortened Link is : https://tinyurl.com/25mk9tx9\n"
     ]
    }
   ],
   "source": [
    "import pyshorteners\n",
    "\n",
    "link = input(\"\\nenter link: \")\n",
    "short = pyshorteners.Shortener()\n",
    "x = short.tinyurl.short(link)\n",
    "print(\"shortened Link is : \"+x)"
   ]
  },
  {
   "cell_type": "code",
   "execution_count": null,
   "id": "8250697d",
   "metadata": {},
   "outputs": [],
   "source": [
    "import pyshorteners\n",
    "\n",
    "link = input(\"\\nenter link: \")\n",
    "short = pyshorteners.Shortener()\n",
    "x = short.tinyurl.short(link)\n",
    "print(\"shortened Link is : \"+x)"
   ]
  }
 ],
 "metadata": {
  "kernelspec": {
   "display_name": "Python 3 (ipykernel)",
   "language": "python",
   "name": "python3"
  },
  "language_info": {
   "codemirror_mode": {
    "name": "ipython",
    "version": 3
   },
   "file_extension": ".py",
   "mimetype": "text/x-python",
   "name": "python",
   "nbconvert_exporter": "python",
   "pygments_lexer": "ipython3",
   "version": "3.9.12"
  }
 },
 "nbformat": 4,
 "nbformat_minor": 5
}
