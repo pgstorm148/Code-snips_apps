{
 "cells": [
  {
   "cell_type": "code",
   "execution_count": null,
   "id": "599e375a",
   "metadata": {},
   "outputs": [],
   "source": [
    "#Code snippets\n"
   ]
  },
  {
   "cell_type": "code",
   "execution_count": null,
   "id": "bb00e7b2",
   "metadata": {},
   "outputs": [],
   "source": [
    "#Program to create a Countdown Timer"
   ]
  },
  {
   "cell_type": "code",
   "execution_count": 3,
   "id": "6735bcf9",
   "metadata": {},
   "outputs": [
    {
     "name": "stdout",
     "output_type": "stream",
     "text": [
      "Set timer in secondss: 2\n",
      "stop : \n",
      "stop : \n"
     ]
    }
   ],
   "source": [
    "import time\n",
    "\n",
    "def countdown(time_sec):\n",
    "    while time_sec:\n",
    "        mins, secs = divmod(time_sec, 60)\n",
    "        timeformat = '{:02d}:{:02d}'.format(mins,secs)\n",
    "        print(timeformat, end ='\\r')\n",
    "        time.sleep(1)\n",
    "        time_sec -= 1\n",
    "        \n",
    "        print('stop : ')\n",
    "        \n",
    "num = int(input(\"Set timer in secondss: \"))\n",
    "\n",
    "countdown(num)\n",
    "\n"
   ]
  },
  {
   "cell_type": "code",
   "execution_count": null,
   "id": "8ab6f57e",
   "metadata": {},
   "outputs": [],
   "source": []
  }
 ],
 "metadata": {
  "kernelspec": {
   "display_name": "Python 3 (ipykernel)",
   "language": "python",
   "name": "python3"
  },
  "language_info": {
   "codemirror_mode": {
    "name": "ipython",
    "version": 3
   },
   "file_extension": ".py",
   "mimetype": "text/x-python",
   "name": "python",
   "nbconvert_exporter": "python",
   "pygments_lexer": "ipython3",
   "version": "3.9.12"
  }
 },
 "nbformat": 4,
 "nbformat_minor": 5
}
